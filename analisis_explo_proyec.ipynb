{
 "cells": [
  {
   "cell_type": "code",
   "execution_count": 1,
   "metadata": {},
   "outputs": [],
   "source": [
    "import pandas as pd \n",
    "import seaborn as sns\n",
    "import matplotlib.pyplot as plt\n",
    "from mpl_toolkits.mplot3d import Axes3D"
   ]
  },
  {
   "cell_type": "code",
   "execution_count": 2,
   "metadata": {},
   "outputs": [],
   "source": [
    "data_org = pd.read_csv('reporte_semana_42.csv')  "
   ]
  },
  {
   "cell_type": "code",
   "execution_count": 3,
   "metadata": {},
   "outputs": [
    {
     "data": {
      "text/html": [
       "<div>\n",
       "<style scoped>\n",
       "    .dataframe tbody tr th:only-of-type {\n",
       "        vertical-align: middle;\n",
       "    }\n",
       "\n",
       "    .dataframe tbody tr th {\n",
       "        vertical-align: top;\n",
       "    }\n",
       "\n",
       "    .dataframe thead th {\n",
       "        text-align: right;\n",
       "    }\n",
       "</style>\n",
       "<table border=\"1\" class=\"dataframe\">\n",
       "  <thead>\n",
       "    <tr style=\"text-align: right;\">\n",
       "      <th></th>\n",
       "      <th>Carrera</th>\n",
       "      <th>Carrito</th>\n",
       "      <th>Equipo</th>\n",
       "      <th>Fecha_y_ hora_Prestamo</th>\n",
       "      <th>Fecha_y_ hora_Devolucion</th>\n",
       "      <th>Modulo</th>\n",
       "      <th>Tipo_Dispositivo</th>\n",
       "    </tr>\n",
       "  </thead>\n",
       "  <tbody>\n",
       "    <tr>\n",
       "      <th>0</th>\n",
       "      <td>MATEMATICAS APLICADAS Y COMPUTACION</td>\n",
       "      <td>C05</td>\n",
       "      <td>C17</td>\n",
       "      <td>10/18/24 17:30</td>\n",
       "      <td>10/18/24 18:45</td>\n",
       "      <td>Módulo 1 Explanada M@C</td>\n",
       "      <td>Chromebook</td>\n",
       "    </tr>\n",
       "    <tr>\n",
       "      <th>1</th>\n",
       "      <td>MATEMATICAS APLICADAS Y COMPUTACION</td>\n",
       "      <td>C01</td>\n",
       "      <td>L17</td>\n",
       "      <td>10/18/24 17:16</td>\n",
       "      <td>10/18/24 18:45</td>\n",
       "      <td>Módulo 1 Explanada M@C</td>\n",
       "      <td>Laptop</td>\n",
       "    </tr>\n",
       "    <tr>\n",
       "      <th>2</th>\n",
       "      <td>ARQUITECTURA</td>\n",
       "      <td>C04</td>\n",
       "      <td>L20</td>\n",
       "      <td>10/18/24 17:17</td>\n",
       "      <td>10/18/24 18:45</td>\n",
       "      <td>Módulo 1 Explanada M@C</td>\n",
       "      <td>Laptop</td>\n",
       "    </tr>\n",
       "    <tr>\n",
       "      <th>3</th>\n",
       "      <td>INGENIERIA CIVIL</td>\n",
       "      <td>C04</td>\n",
       "      <td>L18</td>\n",
       "      <td>10/18/24 17:15</td>\n",
       "      <td>10/18/24 18:45</td>\n",
       "      <td>Módulo 1 Explanada M@C</td>\n",
       "      <td>Laptop</td>\n",
       "    </tr>\n",
       "    <tr>\n",
       "      <th>4</th>\n",
       "      <td>PEDAGOGIA</td>\n",
       "      <td>C06</td>\n",
       "      <td>E16</td>\n",
       "      <td>10/18/24 17:14</td>\n",
       "      <td>10/18/24 18:45</td>\n",
       "      <td>Módulo 2 A-11</td>\n",
       "      <td>Chromebook</td>\n",
       "    </tr>\n",
       "  </tbody>\n",
       "</table>\n",
       "</div>"
      ],
      "text/plain": [
       "                               Carrera Carrito Equipo Fecha_y_ hora_Prestamo  \\\n",
       "0  MATEMATICAS APLICADAS Y COMPUTACION     C05    C17         10/18/24 17:30   \n",
       "1  MATEMATICAS APLICADAS Y COMPUTACION     C01    L17         10/18/24 17:16   \n",
       "2                         ARQUITECTURA     C04    L20         10/18/24 17:17   \n",
       "3                     INGENIERIA CIVIL     C04    L18         10/18/24 17:15   \n",
       "4                            PEDAGOGIA     C06    E16         10/18/24 17:14   \n",
       "\n",
       "  Fecha_y_ hora_Devolucion                  Modulo Tipo_Dispositivo  \n",
       "0           10/18/24 18:45  Módulo 1 Explanada M@C       Chromebook  \n",
       "1           10/18/24 18:45  Módulo 1 Explanada M@C           Laptop  \n",
       "2           10/18/24 18:45  Módulo 1 Explanada M@C           Laptop  \n",
       "3           10/18/24 18:45  Módulo 1 Explanada M@C           Laptop  \n",
       "4           10/18/24 18:45           Módulo 2 A-11       Chromebook  "
      ]
     },
     "execution_count": 3,
     "metadata": {},
     "output_type": "execute_result"
    }
   ],
   "source": [
    "df = data_org.copy()\n",
    "df = df.drop(columns={\"Institucion\"})\n",
    "df.head(5)"
   ]
  },
  {
   "cell_type": "code",
   "execution_count": 4,
   "metadata": {},
   "outputs": [],
   "source": [
    "# Convertir las columnas de fecha y hora a formato datetime\n",
    "df['Fecha_y_ hora_Prestamo'] = pd.to_datetime(df['Fecha_y_ hora_Prestamo'], format='%m/%d/%y %H:%M')\n",
    "df['Fecha_y_ hora_Devolucion'] = pd.to_datetime(df['Fecha_y_ hora_Devolucion'], format='%m/%d/%y %H:%M')\n",
    "\n",
    "# Calcular la duración del préstamo\n",
    "df['Duracion_Prestamo'] = df['Fecha_y_ hora_Devolucion'] - df['Fecha_y_ hora_Prestamo']\n",
    "# Convertir la duración del préstamo a un formato legible de horas y minutos\n",
    "df['Duracion_Horas_Minutos'] = df['Duracion_Prestamo'].apply(lambda x: f\"{int(x.total_seconds() // 3600)}:{int((x.total_seconds() % 3600) // 60):02d}\")\n",
    "\n",
    "df = df.drop(columns={\"Duracion_Prestamo\"})\n",
    "# Convertir 'Duracion_Horas_Minutos' a minutos como número decimal\n",
    "df['Duracion_Minutos'] = df['Duracion_Horas_Minutos'].apply(lambda x: int(x.split(\":\")[0]) * 60 + int(x.split(\":\")[1]))\n",
    "\n"
   ]
  },
  {
   "cell_type": "code",
   "execution_count": 5,
   "metadata": {},
   "outputs": [
    {
     "data": {
      "text/html": [
       "<div>\n",
       "<style scoped>\n",
       "    .dataframe tbody tr th:only-of-type {\n",
       "        vertical-align: middle;\n",
       "    }\n",
       "\n",
       "    .dataframe tbody tr th {\n",
       "        vertical-align: top;\n",
       "    }\n",
       "\n",
       "    .dataframe thead th {\n",
       "        text-align: right;\n",
       "    }\n",
       "</style>\n",
       "<table border=\"1\" class=\"dataframe\">\n",
       "  <thead>\n",
       "    <tr style=\"text-align: right;\">\n",
       "      <th></th>\n",
       "      <th>Carrera</th>\n",
       "      <th>Carrito</th>\n",
       "      <th>Equipo</th>\n",
       "      <th>Fecha_y_ hora_Prestamo</th>\n",
       "      <th>Fecha_y_ hora_Devolucion</th>\n",
       "      <th>Modulo</th>\n",
       "      <th>Tipo_Dispositivo</th>\n",
       "      <th>Duracion_Horas_Minutos</th>\n",
       "      <th>Duracion_Minutos</th>\n",
       "    </tr>\n",
       "  </thead>\n",
       "  <tbody>\n",
       "    <tr>\n",
       "      <th>0</th>\n",
       "      <td>MATEMATICAS APLICADAS Y COMPUTACION</td>\n",
       "      <td>C05</td>\n",
       "      <td>C17</td>\n",
       "      <td>2024-10-18 17:30:00</td>\n",
       "      <td>2024-10-18 18:45:00</td>\n",
       "      <td>Módulo 1 Explanada M@C</td>\n",
       "      <td>Chromebook</td>\n",
       "      <td>1:15</td>\n",
       "      <td>75</td>\n",
       "    </tr>\n",
       "    <tr>\n",
       "      <th>1</th>\n",
       "      <td>MATEMATICAS APLICADAS Y COMPUTACION</td>\n",
       "      <td>C01</td>\n",
       "      <td>L17</td>\n",
       "      <td>2024-10-18 17:16:00</td>\n",
       "      <td>2024-10-18 18:45:00</td>\n",
       "      <td>Módulo 1 Explanada M@C</td>\n",
       "      <td>Laptop</td>\n",
       "      <td>1:29</td>\n",
       "      <td>89</td>\n",
       "    </tr>\n",
       "    <tr>\n",
       "      <th>2</th>\n",
       "      <td>ARQUITECTURA</td>\n",
       "      <td>C04</td>\n",
       "      <td>L20</td>\n",
       "      <td>2024-10-18 17:17:00</td>\n",
       "      <td>2024-10-18 18:45:00</td>\n",
       "      <td>Módulo 1 Explanada M@C</td>\n",
       "      <td>Laptop</td>\n",
       "      <td>1:28</td>\n",
       "      <td>88</td>\n",
       "    </tr>\n",
       "    <tr>\n",
       "      <th>3</th>\n",
       "      <td>INGENIERIA CIVIL</td>\n",
       "      <td>C04</td>\n",
       "      <td>L18</td>\n",
       "      <td>2024-10-18 17:15:00</td>\n",
       "      <td>2024-10-18 18:45:00</td>\n",
       "      <td>Módulo 1 Explanada M@C</td>\n",
       "      <td>Laptop</td>\n",
       "      <td>1:30</td>\n",
       "      <td>90</td>\n",
       "    </tr>\n",
       "    <tr>\n",
       "      <th>4</th>\n",
       "      <td>PEDAGOGIA</td>\n",
       "      <td>C06</td>\n",
       "      <td>E16</td>\n",
       "      <td>2024-10-18 17:14:00</td>\n",
       "      <td>2024-10-18 18:45:00</td>\n",
       "      <td>Módulo 2 A-11</td>\n",
       "      <td>Chromebook</td>\n",
       "      <td>1:31</td>\n",
       "      <td>91</td>\n",
       "    </tr>\n",
       "  </tbody>\n",
       "</table>\n",
       "</div>"
      ],
      "text/plain": [
       "                               Carrera Carrito Equipo Fecha_y_ hora_Prestamo  \\\n",
       "0  MATEMATICAS APLICADAS Y COMPUTACION     C05    C17    2024-10-18 17:30:00   \n",
       "1  MATEMATICAS APLICADAS Y COMPUTACION     C01    L17    2024-10-18 17:16:00   \n",
       "2                         ARQUITECTURA     C04    L20    2024-10-18 17:17:00   \n",
       "3                     INGENIERIA CIVIL     C04    L18    2024-10-18 17:15:00   \n",
       "4                            PEDAGOGIA     C06    E16    2024-10-18 17:14:00   \n",
       "\n",
       "  Fecha_y_ hora_Devolucion                  Modulo Tipo_Dispositivo  \\\n",
       "0      2024-10-18 18:45:00  Módulo 1 Explanada M@C       Chromebook   \n",
       "1      2024-10-18 18:45:00  Módulo 1 Explanada M@C           Laptop   \n",
       "2      2024-10-18 18:45:00  Módulo 1 Explanada M@C           Laptop   \n",
       "3      2024-10-18 18:45:00  Módulo 1 Explanada M@C           Laptop   \n",
       "4      2024-10-18 18:45:00           Módulo 2 A-11       Chromebook   \n",
       "\n",
       "  Duracion_Horas_Minutos  Duracion_Minutos  \n",
       "0                   1:15                75  \n",
       "1                   1:29                89  \n",
       "2                   1:28                88  \n",
       "3                   1:30                90  \n",
       "4                   1:31                91  "
      ]
     },
     "execution_count": 5,
     "metadata": {},
     "output_type": "execute_result"
    }
   ],
   "source": [
    "df.head(5)"
   ]
  },
  {
   "cell_type": "code",
   "execution_count": 6,
   "metadata": {},
   "outputs": [
    {
     "data": {
      "text/html": [
       "<div>\n",
       "<style scoped>\n",
       "    .dataframe tbody tr th:only-of-type {\n",
       "        vertical-align: middle;\n",
       "    }\n",
       "\n",
       "    .dataframe tbody tr th {\n",
       "        vertical-align: top;\n",
       "    }\n",
       "\n",
       "    .dataframe thead th {\n",
       "        text-align: right;\n",
       "    }\n",
       "</style>\n",
       "<table border=\"1\" class=\"dataframe\">\n",
       "  <thead>\n",
       "    <tr style=\"text-align: right;\">\n",
       "      <th></th>\n",
       "      <th>Fecha_y_ hora_Prestamo</th>\n",
       "      <th>Fecha_y_ hora_Devolucion</th>\n",
       "      <th>Duracion_Minutos</th>\n",
       "    </tr>\n",
       "  </thead>\n",
       "  <tbody>\n",
       "    <tr>\n",
       "      <th>count</th>\n",
       "      <td>2089</td>\n",
       "      <td>2089</td>\n",
       "      <td>2089.000000</td>\n",
       "    </tr>\n",
       "    <tr>\n",
       "      <th>mean</th>\n",
       "      <td>2024-10-16 08:19:04.911440896</td>\n",
       "      <td>2024-10-16 10:45:19.186213632</td>\n",
       "      <td>146.237913</td>\n",
       "    </tr>\n",
       "    <tr>\n",
       "      <th>min</th>\n",
       "      <td>2024-10-14 07:50:00</td>\n",
       "      <td>2024-10-14 10:20:00</td>\n",
       "      <td>70.000000</td>\n",
       "    </tr>\n",
       "    <tr>\n",
       "      <th>10%</th>\n",
       "      <td>2024-10-14 11:58:00</td>\n",
       "      <td>2024-10-14 14:28:00</td>\n",
       "      <td>150.000000</td>\n",
       "    </tr>\n",
       "    <tr>\n",
       "      <th>20%</th>\n",
       "      <td>2024-10-14 17:02:48</td>\n",
       "      <td>2024-10-14 18:45:00</td>\n",
       "      <td>150.000000</td>\n",
       "    </tr>\n",
       "    <tr>\n",
       "      <th>30%</th>\n",
       "      <td>2024-10-15 10:30:24</td>\n",
       "      <td>2024-10-15 13:00:24</td>\n",
       "      <td>150.000000</td>\n",
       "    </tr>\n",
       "    <tr>\n",
       "      <th>40%</th>\n",
       "      <td>2024-10-15 15:12:12</td>\n",
       "      <td>2024-10-15 17:42:12</td>\n",
       "      <td>150.000000</td>\n",
       "    </tr>\n",
       "    <tr>\n",
       "      <th>50%</th>\n",
       "      <td>2024-10-16 09:57:00</td>\n",
       "      <td>2024-10-16 12:27:00</td>\n",
       "      <td>150.000000</td>\n",
       "    </tr>\n",
       "    <tr>\n",
       "      <th>60%</th>\n",
       "      <td>2024-10-16 14:42:48</td>\n",
       "      <td>2024-10-16 17:12:48</td>\n",
       "      <td>150.000000</td>\n",
       "    </tr>\n",
       "    <tr>\n",
       "      <th>70%</th>\n",
       "      <td>2024-10-17 09:27:00</td>\n",
       "      <td>2024-10-17 11:57:00</td>\n",
       "      <td>150.000000</td>\n",
       "    </tr>\n",
       "    <tr>\n",
       "      <th>80%</th>\n",
       "      <td>2024-10-17 13:54:24</td>\n",
       "      <td>2024-10-17 16:24:24</td>\n",
       "      <td>150.000000</td>\n",
       "    </tr>\n",
       "    <tr>\n",
       "      <th>90%</th>\n",
       "      <td>2024-10-18 09:36:24</td>\n",
       "      <td>2024-10-18 12:06:24</td>\n",
       "      <td>150.000000</td>\n",
       "    </tr>\n",
       "    <tr>\n",
       "      <th>max</th>\n",
       "      <td>2024-10-18 17:30:00</td>\n",
       "      <td>2024-10-18 18:45:00</td>\n",
       "      <td>150.000000</td>\n",
       "    </tr>\n",
       "    <tr>\n",
       "      <th>std</th>\n",
       "      <td>NaN</td>\n",
       "      <td>NaN</td>\n",
       "      <td>13.641215</td>\n",
       "    </tr>\n",
       "  </tbody>\n",
       "</table>\n",
       "</div>"
      ],
      "text/plain": [
       "              Fecha_y_ hora_Prestamo       Fecha_y_ hora_Devolucion  \\\n",
       "count                           2089                           2089   \n",
       "mean   2024-10-16 08:19:04.911440896  2024-10-16 10:45:19.186213632   \n",
       "min              2024-10-14 07:50:00            2024-10-14 10:20:00   \n",
       "10%              2024-10-14 11:58:00            2024-10-14 14:28:00   \n",
       "20%              2024-10-14 17:02:48            2024-10-14 18:45:00   \n",
       "30%              2024-10-15 10:30:24            2024-10-15 13:00:24   \n",
       "40%              2024-10-15 15:12:12            2024-10-15 17:42:12   \n",
       "50%              2024-10-16 09:57:00            2024-10-16 12:27:00   \n",
       "60%              2024-10-16 14:42:48            2024-10-16 17:12:48   \n",
       "70%              2024-10-17 09:27:00            2024-10-17 11:57:00   \n",
       "80%              2024-10-17 13:54:24            2024-10-17 16:24:24   \n",
       "90%              2024-10-18 09:36:24            2024-10-18 12:06:24   \n",
       "max              2024-10-18 17:30:00            2024-10-18 18:45:00   \n",
       "std                              NaN                            NaN   \n",
       "\n",
       "       Duracion_Minutos  \n",
       "count       2089.000000  \n",
       "mean         146.237913  \n",
       "min           70.000000  \n",
       "10%          150.000000  \n",
       "20%          150.000000  \n",
       "30%          150.000000  \n",
       "40%          150.000000  \n",
       "50%          150.000000  \n",
       "60%          150.000000  \n",
       "70%          150.000000  \n",
       "80%          150.000000  \n",
       "90%          150.000000  \n",
       "max          150.000000  \n",
       "std           13.641215  "
      ]
     },
     "execution_count": 6,
     "metadata": {},
     "output_type": "execute_result"
    }
   ],
   "source": [
    "df.describe(percentiles=[x/10 for x in range(1,10)])"
   ]
  },
  {
   "cell_type": "code",
   "execution_count": 11,
   "metadata": {},
   "outputs": [],
   "source": [
    "var_cat = ['Carrera', 'Carrito', 'Equipo', 'Modulo', 'Tipo_Dispositivo',]\n",
    "var_num = ['Duracion_Minutos']"
   ]
  },
  {
   "cell_type": "code",
   "execution_count": 8,
   "metadata": {},
   "outputs": [
    {
     "name": "stdout",
     "output_type": "stream",
     "text": [
      "<class 'pandas.core.frame.DataFrame'>\n",
      "RangeIndex: 2089 entries, 0 to 2088\n",
      "Data columns (total 9 columns):\n",
      " #   Column                    Non-Null Count  Dtype         \n",
      "---  ------                    --------------  -----         \n",
      " 0   Carrera                   2089 non-null   object        \n",
      " 1   Carrito                   2089 non-null   object        \n",
      " 2   Equipo                    2089 non-null   object        \n",
      " 3   Fecha_y_ hora_Prestamo    2089 non-null   datetime64[ns]\n",
      " 4   Fecha_y_ hora_Devolucion  2089 non-null   datetime64[ns]\n",
      " 5   Modulo                    2089 non-null   object        \n",
      " 6   Tipo_Dispositivo          2089 non-null   object        \n",
      " 7   Duracion_Horas_Minutos    2089 non-null   object        \n",
      " 8   Duracion_Minutos          2089 non-null   int64         \n",
      "dtypes: datetime64[ns](2), int64(1), object(6)\n",
      "memory usage: 147.0+ KB\n"
     ]
    }
   ],
   "source": [
    "df.info()"
   ]
  },
  {
   "cell_type": "code",
   "execution_count": null,
   "metadata": {},
   "outputs": [
    {
     "name": "stdout",
     "output_type": "stream",
     "text": [
      "Columna: Carrera:20 subniveles\n",
      "Columna: Carrera:['MATEMATICAS APLICADAS Y COMPUTACION' 'ARQUITECTURA' 'INGENIERIA CIVIL'\n",
      " 'PEDAGOGIA' 'DERECHO (SUA)' 'DERECHO' 'ACTUARIA'\n",
      " 'RELACIONES INTERNACIONALES' 'COMUNICACION' 'ENSEÃ‘ANZA DE INGLES'\n",
      " 'ECONOMIA' 'FILOSOFIA' 'CIENCIAS POLITICAS Y ADMINISTRACION PUBLICA'\n",
      " 'DISEÃ‘O GRAFICO' 'SOCIOLOGIA' 'PROFESOR'\n",
      " 'LENGUA Y LITERATURAS HISPANICAS' 'HISTORIA'\n",
      " 'ENSEÃ‘ANZA DE ESPAÃ‘OL COMO LENGUA EXTRANJERA'\n",
      " 'RELACIONES INTERNACIONALES (SUA)'] subniveles\n",
      "Columna: Carrito:8 subniveles\n",
      "Columna: Carrito:['C05' 'C01' 'C04' 'C06' 'C03' 'C02' 'C07' 'C08'] subniveles\n",
      "Columna: Equipo:118 subniveles\n",
      "Columna: Equipo:['C17' 'L17' 'L20' 'L18' 'E16' 'L16' 'L15' 'L14' 'C16' 'E15' 'L13' 'C15'\n",
      " 'L11' 'E14' 'E13' 'E12' 'L12' 'E11' 'E09' 'L09' 'C29' 'L08' 'E08' 'L07'\n",
      " 'L04' 'L03' 'L02' 'E07' 'L01' 'E06' 'E05' 'E04' 'L22' 'L21' 'C28' 'E03'\n",
      " 'E02' 'C14' 'T04' 'L10' 'C27' 'C30' 'C26' 'C25' 'C24' 'L06' 'C23' 'C22'\n",
      " 'L05' 'C21' 'C20' 'L30' 'L29' 'L28' 'L27' 'L26' 'E26' 'C19' 'E25' 'E24'\n",
      " 'E23' 'C18' 'L24' 'L23' 'L19' 'E21' 'E20' 'E18' 'C13' 'E17' 'C12' 'C11'\n",
      " 'C10' 'C09' 'C08' 'C07' 'C06' 'T18' 'E10' 'C05' 'C04' 'T17' 'C03' 'C02'\n",
      " 'T16' 'T15' 'T12' 'T11' 'T10' 'T09' 'T03' 'T08' 'C01' 'T07' 'T02' 'T06'\n",
      " 'T05' 'E01' 'T01' 'T29' 'E29' 'E28' 'E27' 'E22' 'E19' 'E30' 'T28' 'T27'\n",
      " 'T26' 'T25' 'T24' 'T23' 'T22' 'T21' 'T20' 'T19' 'T14' 'T13'] subniveles\n",
      "Columna: Modulo:3 subniveles\n",
      "Columna: Modulo:['Módulo 1 Explanada M@C' 'Módulo 2 A-11' 'Módulo 3 CEDETEC'] subniveles\n",
      "Columna: Tipo_Dispositivo:3 subniveles\n",
      "Columna: Tipo_Dispositivo:['Chromebook' 'Laptop' 'iPad'] subniveles\n"
     ]
    }
   ],
   "source": [
    "\n"
   ]
  },
  {
   "cell_type": "code",
   "execution_count": 10,
   "metadata": {},
   "outputs": [
    {
     "data": {
      "image/png": "[encoded data removed]",
      "text/plain": [
       "<Figure size 800x600 with 1 Axes>"
      ]
     },
     "metadata": {},
     "output_type": "display_data"
    }
   ],
   "source": [
    "plt.figure(figsize=(8,6))\n",
    "sns.boxplot(y=df['Duracion_Minutos'])\n",
    "plt.ylim(100,250)\n",
    "plt.title('Diagrama de caja de diración de prestamos')\n",
    "plt.show()"
   ]
  },
  {
   "cell_type": "code",
   "execution_count": null,
   "metadata": {},
   "outputs": [],
   "source": [
    "df.head(5)"
   ]
  },
  {
   "cell_type": "code",
   "execution_count": null,
   "metadata": {},
   "outputs": [],
   "source": [
    "df_explanada_mac = df[df['Modulo'] == 'Módulo 1 Explanada M@C']\n",
    "df_explanada_mac.head(5)"
   ]
  },
  {
   "cell_type": "code",
   "execution_count": null,
   "metadata": {},
   "outputs": [],
   "source": [
    "df_modulo_2_A_11 = df[df['Modulo'] == 'Módulo 2 A-11']\n",
    "df_modulo_2_A_11.head(5)"
   ]
  },
  {
   "cell_type": "code",
   "execution_count": null,
   "metadata": {},
   "outputs": [],
   "source": [
    "df_modulo_3_CEDETEC = df[df['Modulo'] == 'Módulo 3 CEDETEC']\n",
    "df_modulo_3_CEDETEC.head(5)"
   ]
  },
  {
   "cell_type": "code",
   "execution_count": null,
   "metadata": {},
   "outputs": [],
   "source": [
    "for col in var_cat:\n",
    "    print(f'Columna: {col}:{df_modulo_3_CEDETEC[col].nunique()} subniveles')\n",
    "    print(f'Columna: {col}:{df[col].unique()} subniveles')"
   ]
  },
  {
   "cell_type": "code",
   "execution_count": null,
   "metadata": {},
   "outputs": [],
   "source": [
    "df_explanada_mac.describe(percentiles=[x/10 for x in range(1,10)])"
   ]
  },
  {
   "cell_type": "code",
   "execution_count": null,
   "metadata": {},
   "outputs": [],
   "source": [
    "df.to_csv('reporte_semana_42_limpio.csv', index=False)\n",
    "df_explanada_mac.to_csv('reporte_semana_42_limpio_modulo1_explanada_mac.csv', index=False)\n",
    "df_Módulo_3_CEDETEC.to_csv('reporte_semana_42_limpio_modulo3_CEDETEC.csv', index=False)\n",
    "df_modulo_2_A_11.to_csv('reporte_semana_42_limpio_modulo2_A_11.csv', index=False)\n"
   ]
  },
  {
   "cell_type": "code",
   "execution_count": null,
   "metadata": {},
   "outputs": [],
   "source": [
    "df.info()"
   ]
  }
 ],
 "metadata": {
  "kernelspec": {
   "display_name": "proyec_fin_sim_esto",
   "language": "python",
   "name": "python3"
  },
  "language_info": {
   "codemirror_mode": {
    "name": "ipython",
    "version": 3
   },
   "file_extension": ".py",
   "mimetype": "text/x-python",
   "name": "python",
   "nbconvert_exporter": "python",
   "pygments_lexer": "ipython3",
   "version": "3.11.2"
  }
 },
 "nbformat": 4,
 "nbformat_minor": 2
}
